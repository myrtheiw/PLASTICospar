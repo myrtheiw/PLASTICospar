{
 "cells": [
  {
   "cell_type": "code",
   "execution_count": null,
   "id": "0191fe65",
   "metadata": {},
   "outputs": [],
   "source": [
    "# -*- coding: utf-8 -*-\n",
    "\"\"\"\n",
    "Created on Thu Jan  20 18:14:31 2024\n",
    "\n",
    "@author: Henry Gunawan, Dimitris Mantas, Sam Parijs\n",
    "\"\"\""
   ]
  },
  {
   "cell_type": "code",
   "execution_count": 3,
   "id": "d2eac0b2-ec92-4ca9-9eae-78a8bf59591f",
   "metadata": {},
   "outputs": [],
   "source": [
    "from roboflow import Roboflow"
   ]
  },
  {
   "cell_type": "code",
   "execution_count": 4,
   "id": "0a142e37-0d01-441b-8e13-98d4f77c11b0",
   "metadata": {},
   "outputs": [
    {
     "name": "stdout",
     "output_type": "stream",
     "text": [
      "loading Roboflow workspace...\n",
      "loading Roboflow project...\n"
     ]
    },
    {
     "name": "stderr",
     "output_type": "stream",
     "text": [
      "Downloading Dataset Version Zip in DSAIE-PROJECT-PLASTIC-7 to yolov8:: 100%|█| 240910/240910 [00:29<00:00, 8118.91it/s]"
     ]
    },
    {
     "name": "stdout",
     "output_type": "stream",
     "text": [
      "\n"
     ]
    },
    {
     "name": "stderr",
     "output_type": "stream",
     "text": [
      "\n",
      "Extracting Dataset Version Zip to DSAIE-PROJECT-PLASTIC-7 in yolov8:: 100%|██████| 3395/3395 [00:02<00:00, 1381.31it/s]\n"
     ]
    }
   ],
   "source": [
    "#Input the Roboflow API Key, Project data and Dataset Version.\n",
    "rf = Roboflow(api_key=\"...\")\n",
    "project = rf.workspace(\"dsaie-project-plastic\").project(\"dsaie-project-plastic\")\n",
    "dataset = project.version(7).download(\"yolov8\")\n"
   ]
  },
  {
   "cell_type": "code",
   "execution_count": 5,
   "id": "1cc0a3e3-ee0c-42d7-8c19-b150d5791789",
   "metadata": {},
   "outputs": [
    {
     "name": "stdout",
     "output_type": "stream",
     "text": [
      "View the status of your deployment at: https://app.roboflow.com/dsaie-project-plastic/dsaie-project-plastic/7\n",
      "Share your model with the world at: https://universe.roboflow.com/dsaie-project-plastic/dsaie-project-plastic/model/7\n"
     ]
    }
   ],
   "source": [
    "#Deploy to roboflow by setting the model type and model path\n",
    "project.version(dataset.version).deploy(model_type=\"yolov8\", model_path=f\"C:/Users/Henry/Delft University of Technology/PLASTIC - General/training_semifinal/train32/\")"
   ]
  }
 ],
 "metadata": {
  "kernelspec": {
   "display_name": "Python 3 (ipykernel)",
   "language": "python",
   "name": "python3"
  },
  "language_info": {
   "codemirror_mode": {
    "name": "ipython",
    "version": 3
   },
   "file_extension": ".py",
   "mimetype": "text/x-python",
   "name": "python",
   "nbconvert_exporter": "python",
   "pygments_lexer": "ipython3",
   "version": "3.11.5"
  }
 },
 "nbformat": 4,
 "nbformat_minor": 5
}
